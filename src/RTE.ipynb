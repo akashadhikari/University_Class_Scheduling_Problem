{
 "cells": [
  {
   "cell_type": "code",
   "execution_count": 49,
   "id": "446d6d49",
   "metadata": {},
   "outputs": [],
   "source": [
    "import pandas as pd"
   ]
  },
  {
   "cell_type": "code",
   "execution_count": 10,
   "id": "41d05324",
   "metadata": {},
   "outputs": [],
   "source": [
    "def bin8(decimal_number, num_bits=8):\n",
    "    binary_representation = bin(decimal_number)[2:]  # Remove the '0b' prefix\n",
    "    if len(binary_representation) < num_bits:\n",
    "        binary_representation = '0' * (num_bits - len(binary_representation)) + binary_representation\n",
    "    elif len(binary_representation) > num_bits:\n",
    "        print(f\"Warning: The binary representation of {decimal_number} requires more than {num_bits} bits.\")\n",
    "\n",
    "    return binary_representation\n"
   ]
  },
  {
   "cell_type": "code",
   "execution_count": 62,
   "id": "791524fe",
   "metadata": {},
   "outputs": [],
   "source": [
    "# Input values\n",
    "\n",
    "module = {\n",
    "    'Complex System':1,\n",
    "    'AI':2,\n",
    "    'Game Development':3\n",
    "}\n",
    "teacher = {\n",
    "    'Akash Adhikari':1,\n",
    "    'John Doe':2,\n",
    "    'Shiva Raj Pandey':3\n",
    "}\n",
    "ltw = {\n",
    "    'Lecture':1,\n",
    "    'Tutorial':2,\n",
    "    'Workshop':3\n",
    "}\n",
    "level = {\n",
    "    4:4,\n",
    "    5:5,\n",
    "    6:6\n",
    "}\n",
    "group = {\n",
    "    1:1,\n",
    "    2:2,\n",
    "    3:3,\n",
    "    4:4,\n",
    "    5:5\n",
    "}\n",
    "time_duration = {\n",
    "    '2':1,\n",
    "    '2.5':2\n",
    "}\n",
    "time_shift = {\n",
    "    '7-3':1,\n",
    "    '9-5':2\n",
    "}\n",
    "\n",
    "# Output values\n",
    "\n",
    "class_ = {\n",
    "    'Wulfurna':1,\n",
    "    'Walsall':2,\n",
    "    'Stafford':3,\n",
    "    'Mander':4,\n",
    "    'Compton':5\n",
    "}\n",
    "day = {\n",
    "    'Sunday':1,\n",
    "    'Monday':2,\n",
    "    'Tuesday':3,\n",
    "    'Wednesday':4,\n",
    "    'Thursday':5,\n",
    "    'Friday':6\n",
    "}\n",
    "time = {\n",
    "    \"6:30\":1,\n",
    "    \"7:00\":2,\n",
    "    \"7:30\":3,\n",
    "    \"8:00\":4,\n",
    "    \"8:30\":5,\n",
    "    \"9:00\":6,\n",
    "    \"9:30\":7,\n",
    "    \"10:00\":8,\n",
    "    \"10:30\":9,\n",
    "    \"11:00\":10,\n",
    "    \"11:30\":11,\n",
    "    \"12:00\":12,\n",
    "    \"12:30\":13,\n",
    "    \"13:00\":14,\n",
    "    \"13:30\":15,\n",
    "    \"14:00\":16,\n",
    "    \"14:30\":17,\n",
    "    \"15:00\":18\n",
    "}"
   ]
  },
  {
   "cell_type": "markdown",
   "id": "7b0e78a0",
   "metadata": {},
   "source": [
    "### Input values\n",
    "**Module Name**: Complex System  \n",
    "this defines level  \n",
    "**Teacher Name**: Akash Adhikari   \n",
    "this defines his/her time shift  \n",
    "**Class Type**: Tutorial  \n",
    "this defines time duration  \n",
    "**Group**: 4  "
   ]
  },
  {
   "cell_type": "code",
   "execution_count": 83,
   "id": "a34cb549",
   "metadata": {},
   "outputs": [
    {
     "data": {
      "text/plain": [
       "'00000001000001100000000100000010000000100000000100000100'"
      ]
     },
     "execution_count": 83,
     "metadata": {},
     "output_type": "execute_result"
    }
   ],
   "source": [
    "a = bin8(module[\"Complex System\"]) \\\n",
    "+ bin8(level[6]) \\\n",
    "+ bin8(teacher[\"Akash Adhikari\"]) \\\n",
    "+ bin8(time_shift[\"9-5\"]) \\\n",
    "+ bin8(ltw[\"Tutorial\"]) \\\n",
    "+ bin8(time_duration[\"2\"]) \\\n",
    "+ bin8(group[4])\n",
    "\n",
    "a\n",
    "\n",
    "# module defines level\n",
    "# ltw defines time duration\n",
    "# teacher defines his/her time shift"
   ]
  },
  {
   "cell_type": "markdown",
   "id": "15e8d32a",
   "metadata": {},
   "source": [
    "### Output values\n",
    "**Class**: Stafford  \n",
    "**Day**: Sunday  \n",
    "**Time**: 9:00  "
   ]
  },
  {
   "cell_type": "code",
   "execution_count": 84,
   "id": "91a241ea",
   "metadata": {},
   "outputs": [
    {
     "data": {
      "text/plain": [
       "'000000110000000100000110'"
      ]
     },
     "execution_count": 84,
     "metadata": {},
     "output_type": "execute_result"
    }
   ],
   "source": [
    "b = bin8(class_[\"Stafford\"]) \\\n",
    "+ bin8(day[\"Sunday\"]) \\\n",
    "+ bin8(time[\"9:00\"])\n",
    "\n",
    "b"
   ]
  },
  {
   "cell_type": "markdown",
   "id": "43fa1a38",
   "metadata": {},
   "source": [
    "### Input values\n",
    "**Module Name**: AI  \n",
    "**Teacher Name**: John Doe  \n",
    "**Class Type**: Tutorial  \n",
    "**Level**: 6  \n",
    "**Group**: 5  "
   ]
  },
  {
   "cell_type": "code",
   "execution_count": 85,
   "id": "b892a85d",
   "metadata": {},
   "outputs": [
    {
     "data": {
      "text/plain": [
       "'00000010000001100000001000000010000000100000000100000101'"
      ]
     },
     "execution_count": 85,
     "metadata": {},
     "output_type": "execute_result"
    }
   ],
   "source": [
    "c = bin8(module[\"AI\"]) \\\n",
    "+ bin8(level[6]) \\\n",
    "+ bin8(teacher[\"John Doe\"]) \\\n",
    "+ bin8(time_shift[\"9-5\"]) \\\n",
    "+ bin8(ltw[\"Tutorial\"])\\\n",
    "+ bin8(time_duration[\"2\"]) \\\n",
    "+ bin8(group[5])\n",
    "\n",
    "c"
   ]
  },
  {
   "cell_type": "markdown",
   "id": "678c59b9",
   "metadata": {},
   "source": [
    "### Output values\n",
    "**Class**: Stafford  \n",
    "**Day**: Sunday  \n",
    "**Time**: 11:00  "
   ]
  },
  {
   "cell_type": "code",
   "execution_count": 86,
   "id": "b8e9b5e0",
   "metadata": {},
   "outputs": [
    {
     "data": {
      "text/plain": [
       "'000000110000000100001010'"
      ]
     },
     "execution_count": 86,
     "metadata": {},
     "output_type": "execute_result"
    }
   ],
   "source": [
    "d = bin8(class_[\"Stafford\"]) \\\n",
    "+ bin8(day[\"Sunday\"]) \\\n",
    "+ bin8(time[\"11:00\"])\n",
    "\n",
    "d"
   ]
  },
  {
   "cell_type": "code",
   "execution_count": 80,
   "id": "c0753029",
   "metadata": {},
   "outputs": [
    {
     "data": {
      "text/html": [
       "<div>\n",
       "<style scoped>\n",
       "    .dataframe tbody tr th:only-of-type {\n",
       "        vertical-align: middle;\n",
       "    }\n",
       "\n",
       "    .dataframe tbody tr th {\n",
       "        vertical-align: top;\n",
       "    }\n",
       "\n",
       "    .dataframe thead th {\n",
       "        text-align: right;\n",
       "    }\n",
       "</style>\n",
       "<table border=\"1\" class=\"dataframe\">\n",
       "  <thead>\n",
       "    <tr style=\"text-align: right;\">\n",
       "      <th></th>\n",
       "      <th>Input</th>\n",
       "      <th>Output</th>\n",
       "    </tr>\n",
       "  </thead>\n",
       "  <tbody>\n",
       "    <tr>\n",
       "      <th>0</th>\n",
       "      <td>0000000100000110000000010000001000000010000000...</td>\n",
       "      <td>000000110000000100000110</td>\n",
       "    </tr>\n",
       "    <tr>\n",
       "      <th>1</th>\n",
       "      <td>0000001000000110000000100000001000000010000000...</td>\n",
       "      <td>000000110000000100001010</td>\n",
       "    </tr>\n",
       "  </tbody>\n",
       "</table>\n",
       "</div>"
      ],
      "text/plain": [
       "                                               Input                    Output\n",
       "0  0000000100000110000000010000001000000010000000...  000000110000000100000110\n",
       "1  0000001000000110000000100000001000000010000000...  000000110000000100001010"
      ]
     },
     "execution_count": 80,
     "metadata": {},
     "output_type": "execute_result"
    }
   ],
   "source": [
    "pd.DataFrame({'Input':[a,c],'Output':[b,d]})"
   ]
  },
  {
   "cell_type": "code",
   "execution_count": null,
   "id": "8652543d",
   "metadata": {},
   "outputs": [],
   "source": []
  }
 ],
 "metadata": {
  "kernelspec": {
   "display_name": "Python 3 (ipykernel)",
   "language": "python",
   "name": "python3"
  },
  "language_info": {
   "codemirror_mode": {
    "name": "ipython",
    "version": 3
   },
   "file_extension": ".py",
   "mimetype": "text/x-python",
   "name": "python",
   "nbconvert_exporter": "python",
   "pygments_lexer": "ipython3",
   "version": "3.10.11"
  }
 },
 "nbformat": 4,
 "nbformat_minor": 5
}
